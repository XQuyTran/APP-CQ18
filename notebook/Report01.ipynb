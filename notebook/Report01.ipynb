{
  "nbformat": 4,
  "nbformat_minor": 0,
  "metadata": {
    "colab": {
      "name": "Report.ipynb",
      "provenance": [],
      "collapsed_sections": []
    },
    "kernelspec": {
      "display_name": "Python 3",
      "language": "python",
      "name": "python3"
    },
    "language_info": {
      "codemirror_mode": {
        "name": "ipython",
        "version": 3
      },
      "file_extension": ".py",
      "mimetype": "text/x-python",
      "name": "python",
      "nbconvert_exporter": "python",
      "pygments_lexer": "ipython3",
      "version": "3.7.3"
    },
    "accelerator": "GPU"
  },
  "cells": [
    {
      "cell_type": "markdown",
      "metadata": {
        "id": "_WNCWSSdb4hY"
      },
      "source": [
        "# Đồ án môn học \"Lập trình song song ứng dụng\"\n",
        "\n",
        "# Xác định loại bệnh thực vật bằng XGBoost.\n",
        "\n",
        "## Giảng viên: Trần Trung Kiên\n",
        "\n",
        "### Nhóm 3:\n",
        "- 18120231 - Trần Xuân Quý\n",
        "- 18120544 - Trương Minh Tài\n",
        "- 18120462 - Nguyễn Thị Mận"
      ]
    },
    {
      "cell_type": "markdown",
      "metadata": {
        "id": "jFV9dwfbb818"
      },
      "source": [
        "---"
      ]
    },
    {
      "cell_type": "markdown",
      "metadata": {
        "id": "JfDNhQszbT7E"
      },
      "source": [
        "#0. Import\n",
        "\n",
        "\n",
        "\n",
        "\n",
        "\n"
      ]
    },
    {
      "cell_type": "code",
      "source": [
        ""
      ],
      "metadata": {
        "id": "4gvP9OrcZBhJ"
      },
      "execution_count": null,
      "outputs": []
    },
    {
      "cell_type": "markdown",
      "metadata": {
        "id": "LhPMHQh9bYlg"
      },
      "source": [
        "---"
      ]
    },
    {
      "cell_type": "markdown",
      "metadata": {
        "id": "Gndq0-H9c3UI"
      },
      "source": [
        "# 1. Mô tả ứng dụng"
      ]
    },
    {
      "cell_type": "markdown",
      "metadata": {
        "id": "VkkX0gY6v5co"
      },
      "source": [
        "- **Xác định loại bệnh thực vật bằng XGBoost**\n",
        "\t- Input: một ảnh RGB (ảnh lá cây) và một mô hình XGBoost đã train\n",
        "\t- Output: `healthy`\t`multiple_diseases`\t`rust`\t`scab`\n",
        "\t- Ý nghĩa của ứng dụng trong thực tế:\n",
        "\t\t- tránh các chuẩn đoán sai dẫn đến tăng chi phí, hại môi trường khi sự dụng sai thuốc, hóa chất cho cây trồng\n",
        "\t\t- chuẩn đoán hiện tại dựa trên con người: tốn thời gian, tốn kém và không mang lại hiệu quả \n"
      ]
    },
    {
      "cell_type": "markdown",
      "source": [
        "- Lý do cần tăng tốc ứng dụng:\n",
        "\t- Có nhiều ý nghĩa thực tế, có thể áp dụng cho đa dạng loại thực vật\n",
        "\t- Ứng dụng này sẽ chạy chậm nếu cài đặt tuần tự\n",
        "\t- Mô hình XGBoost có thể song song hóa và tối ưu hóa.\n",
        "\t\n",
        "\n",
        "\n",
        "\n"
      ],
      "metadata": {
        "id": "7iPSuJnGigTj"
      }
    },
    {
      "cell_type": "markdown",
      "source": [
        "- Khả năng song song hóa\n",
        "\t- Các node trong mỗi layer có thể được tính độc lập.\n",
        "\t- Một số hàm kích hoạt có thể song song hóa: softmax"
      ],
      "metadata": {
        "id": "lXdJDXpxI1MG"
      }
    },
    {
      "cell_type": "markdown",
      "metadata": {
        "id": "0WPaT2YewLtY"
      },
      "source": [
        "---"
      ]
    },
    {
      "cell_type": "markdown",
      "metadata": {
        "id": "7WS47gU0XR40"
      },
      "source": [
        "# 2. Cài đặt tuần tự"
      ]
    },
    {
      "cell_type": "markdown",
      "metadata": {
        "id": "kG2srB4UiYjo"
      },
      "source": [
        "## 2.1. Thiết kế"
      ]
    },
    {
      "cell_type": "markdown",
      "source": [
        "\n",
        "####**2.1.1**. **Trích xuất dữ liệu màu sắc**\n",
        "\n",
        "\n",
        "> - Trực quan hoá các hình ảnh về bệnh thực vật để đưa ra kết luận\n",
        "    - Dữ liệu huấn luyện gồm có 1821 hình ảnh và nhãn của chúng. \n",
        "    - Không có dữ liệu rỗng\n",
        "    - Ý nghĩa các cột:\n",
        "      - `image_id`: tên file hình ảnh\n",
        "      - `healthy`: 1 nếu cây khỏe mạnh, 0 nếu ngược lại ![](https://drive.google.com/uc?export=view&id=1fx0g_Ey6s2qug5DIqcTXxGB_V4wwqQdJ)\n",
        "      - `multiple_diseases`: 1 nếu cây có nhiều bệnh cùng lúc, 0 nếu ngược lại ![](https://drive.google.com/uc?export=view&id=1N-0LV-Dx5fzM7WBDhkAV3_oC61Hzc9iU)\n",
        "      - `rust`: 1 nếu cây bị bệnh rust, 0 nếu ngược lại ![](https://drive.google.com/uc?export=view&id=1In7gsHXWLu3DMGJAeMV3SbNXr3vAJ1hc)\n",
        "      - `scab`: 1 nếu cây bị bệnh scab, 0 nếu ngược lại ![](https://drive.google.com/uc?export=view&id=1hO7OAp1WUnp6Z5yJk02UGXWiNYd6v_UO)\n",
        "      - Mỗi hình ảnh chỉ thuộc về một loại duy nhất trong tập `healthy`, `multiple_diseases`, `rust`, `scab`\n",
        "      ![](https://drive.google.com/uc?export=view&id=1imxTXEH9e5TbQM1-ZwBjgbXkkvU-E35b)\n",
        "    - Ở đây có thể thấy rằng ở lớp `rust` thì lá thường sẽ có màu các đốm màu vàng và lớp `scab` thì thường sẽ có các đốm màu đen.\n",
        "Từ đó vấn đề về màu sắc là một thuộc tính rõ ràng để trích xuất dữ liệu cho các lớp này.\n",
        "Vậy nên chúng em quyết định chọn 2 figure chính cho model thứ nhất này là color histogram và hue monents hai figure liên quan đến màu sắc.\n",
        "  - Vấn đề gặp phải:\n",
        "    background của các ảnh chứa quá nhiều chi tiết về màu sắc thừa cần phải loại bỏ những chi tiết này để mô hình có thể dự đoán tốt hơn.\n",
        "> - Tìm ra một số hàm để trích xuất background của ảnh\n",
        "\n",
        "\n"
      ],
      "metadata": {
        "id": "2SxBav8WIcp4"
      }
    },
    {
      "cell_type": "markdown",
      "source": [
        "####**2.1.2**. **Tìm ra một số hàm để trích xuất background của ảnh**\n",
        "\n",
        "> - Sử dụng đạo hàm ảnh bằng phương pháp candy \n",
        "    - Giải thuật phát hiện cạnh Canny gồm 4 bước chính sau:\n",
        "      - **Giảm nhiễu:** làm mờ ảnh, giảm nhiễu dùng bộ lọc Gaussian kích thước `5x5`. Kích thước `5x5` thường hoạt động tốt cho giải thuật Canny.\n",
        "      - **Tính Gradient và hướng gradient:** dùng bộ lọc Sobel X và Sobel Y (`3x3`) để tính được ảnh đạo hàm Gx và Gy.  Sau đó, tiếp tục tính ảnh Gradient và góc của Gradient theo công thức. Ảnh đạo hàm Gx và Gy là ma trận, thì kết quả tính ảnh đạo hàm Edge Gradient cũng là một ma trận, mỗi pixel trên ma trận này thể hiện độ lớn của biến đổi mức sáng ở vị trí tương ứng trên ảnh gốc. Tương tự, ma trận Angle cũng có cùng kích thước, mỗi pixel trên Angle thể hiện góc, hay nói cách khác là hướng của cạnh. ![](https://firebasestorage.googleapis.com/v0/b/minh-nguyen-blog.appspot.com/o/post-images%2Fopencv%2Fgradient_and_angle.jpg?alt=media&token=4962545e-34bf-4fa5-a9be-f9b6e58ce0a9)\n",
        "      - **Non-maximum Suppression (viết tắt NMS):** loại bỏ các pixel ở vị trí không phải cực đại toàn cục. Ở bước này, dùng một filter `3x3` lần lượt chạy qua các pixel trên ảnh gradient. Trong quá trình lọc, xem xét xem độ lớn gradient của pixel trung tâm có phải là cực đại (lớn nhất trong cục bộ - local maximum) so với các gradient ở các pixel xung quanh. Nếu là cực đại, ghi nhận sẽ giữ pixel đó lại. Còn nếu pixel tại đó không phải là cực đại lân cận, set độ lớn gradient của nó về zero. Chỉ so sánh pixel trung tâm với 2 pixel lân cận theo hướng gradient. ![](https://firebasestorage.googleapis.com/v0/b/minh-nguyen-blog.appspot.com/o/post-images%2Fopencv%2Fnms.jpg?alt=media&token=48e544e7-a7a1-49f6-8f5b-580aea1c8f44)\n",
        "      - **Lọc ngưỡng:** xét các pixel dương trên mặt nạ nhị phân kết quả của bước trước. Nếu giá trị gradient vượt ngưỡng max_val thì pixel đó chắc chắn là cạnh. Các pixel có độ lớn gradient nhỏ hơn ngưỡng min_val sẽ bị loại bỏ. Còn các pixel nằm trong khoảng 2 ngưỡng trên sẽ được xem xét rằng nó có nằm liên kề với những pixel được cho là \"chắc chắn là cạnh\" hay không. Nếu liền kề thì giữ, còn không liền kề bất cứ pixel cạnh nào thì loại. Sau bước này có thể áp dụng thêm bước hậu xử lý loại bỏ nhiễu (tức những pixel cạnh rời rạc hay cạnh ngắn). ![](https://firebasestorage.googleapis.com/v0/b/minh-nguyen-blog.appspot.com/o/post-images%2Fopencv%2Fhysteresis.jpg?alt=media&token=ae128d6f-a4fb-4fa7-ab31-d7a4d1a36d6a)\n",
        "    - Ảnh sau khi dùng phương pháp Candy ![](https://drive.google.com/uc?export=view&id=1zhOlvtPV0SwMe-TwTsLLqF7O2MDzUp7J)\n",
        "> - Sử dụng phương pháp nén ảnh với threshold và liên kết các ô xung quanh để lấp khuyết ảnh\n",
        "    - Hàm dùng để nén ảnh với threshold là ratio sẽ trả ra kết quả là ảnh với block tương ứng với zip x zip và nếu block nào không đủ pixel yêu cầu thì là 0 còn ngược lại thì là 1\n",
        "    - Hàm dùng để liên kết các ô xung quanh để lấp khuyết sẽ trả ra kết quả là một ma trận mask\n",
        "    - Ảnh sau khi dùng phương pháp nén ảnh với threshold ![](https://drive.google.com/uc?export=view&id=1rtak3-SXn5qWvKh5eh3EeWGzlezTVbjC)\n",
        "    - Ảnh sau khi được lấp đầy ![](https://drive.google.com/uc?export=view&id=1zti7WT-tMo7zJy2mqYubxp4aXd-VmiG0)\n",
        "    - Ảnh sau khi được loại bỏ bớt background ![](https://drive.google.com/uc?export=view&id=1d5edPcyrYHXEzXI4tE3pmG-r86Mi5ATR)\n",
        "> - Hàm dùng để trích xuất color histogram và hue monents\n",
        "> - Trích xuất dữ liệu từ dạng ảnh sang dạng số\n"
      ],
      "metadata": {
        "id": "XwHuniePlkp8"
      }
    },
    {
      "cell_type": "markdown",
      "source": [
        "####**2.1.3**. **Hiện thực model từ tập dữ liệu đã được trích xuất**\n",
        "> - Thực hiện lọc lại dữ liệu để train model\n",
        "> - Thực hiện train model từ tập dữ liệu đã được lọc\n",
        "> - Dự đoán tập test đã được lọc"
      ],
      "metadata": {
        "id": "45kk8JoXlsBS"
      }
    },
    {
      "cell_type": "markdown",
      "source": [
        "#### **Mô hình XGBoost:** học từ dữ liệu mà không có mô hình cụ thể, được thực hiện bằng cách học không giám sát. **XGBoost** là một thư viện tăng cường gradient để đào tạo GPU, tính toán phân tán và song song, cải thiện đáng kể hiệu suất mô hình. **XGBoost** có độ chính xác cao, thích hợp với tất cả các loại dữ liệu và vấn đề. **XGBoost** là viết tắt của Extreme Gradient Boosting.\n",
        "#### Một số tính năng quan trọng của **XGBoost:** \n",
        "> - #### ***Parallelization:*** mô hình được triển khai với nhiều core CPU.\n",
        "> - #### ***Regularization:*** mô hình bao gồm các regularization penalty khác nhau để tránh bị overfitting.\n",
        "> - #### ***Non-linearity:*** mô hình có thể phát hiện và học từ các mẫu dữ liệu phi tuyến tính. \n",
        "> - #### ***Cross-validation:*** Built-in và comes-out-of-the-box.\n",
        "> - #### ***Scalability:*** mô hình có thể chạy phân tán nhờ các máy chủ và cụm phân tán như Hadoop, Spark. Do đó có thể xử lý một lượng lớn dữ liệu.\n",
        "#### Một số tham số quan trọng của **XGBRegressor:** \n",
        "> - #### ***Learning_rate:*** được dùng để kiểm soát và điều chỉnh trọng số của internal model estimators. **Learning_rate** phải có giá trị nhỏ để học lâu dài.\n",
        "> - #### ***Max_depth:*** cho biết độ sâu của các estimators (tree). Cẩn thận khi điều chỉnh tham số này, vì có thể làm mô hình overfit.\n",
        "> - #### ***Alpha:*** một loại regularization penalty để tránh overfitting. \n",
        "> - #### ***Num_estimators:*** số lượng estimators mà mô hình được xây dựng.\n",
        "> - #### ***Num_boost_round:*** số lượng giai đoạn tăng cường (boosting). **Num_boost_round** nên được điều chỉnh mỗi khi cập nhật tham số.\n",
        "#### Kiến trúc tổng quát của **XGBoost** ![](https://www.researchgate.net/profile/Li-Mingtao-2/publication/335483097/figure/fig3/AS:934217085100032@1599746118459/A-general-architecture-of-XGBoost.ppm) "
      ],
      "metadata": {
        "id": "_olv-aXBjc5Y"
      }
    },
    {
      "cell_type": "markdown",
      "metadata": {
        "id": "cB63EdxDc6aU"
      },
      "source": [
        "## 2.2. Đánh giá"
      ]
    },
    {
      "cell_type": "markdown",
      "metadata": {
        "id": "8hq0--pcX0hc"
      },
      "source": [
        "---"
      ]
    },
    {
      "cell_type": "markdown",
      "metadata": {
        "id": "aqQRAvgnW-pA"
      },
      "source": [
        "# 3. Cài đặt song song"
      ]
    },
    {
      "cell_type": "markdown",
      "metadata": {
        "id": "UmQM2xlgXros"
      },
      "source": [
        "## 3.1. Phân tích"
      ]
    },
    {
      "cell_type": "markdown",
      "metadata": {
        "id": "PTajeAXxX6I0"
      },
      "source": [
        "## 3.2. Thiết kế"
      ]
    },
    {
      "cell_type": "markdown",
      "metadata": {
        "id": "KpOkhWXXX7ew"
      },
      "source": [
        "## 3.3. Đánh giá"
      ]
    },
    {
      "cell_type": "markdown",
      "metadata": {
        "id": "0KOSr4XcRSo4"
      },
      "source": [
        "---"
      ]
    },
    {
      "cell_type": "markdown",
      "metadata": {
        "id": "MI7sU-eURSo4"
      },
      "source": [
        "# 4. Nhìn lại quá trình làm đồ án"
      ]
    },
    {
      "cell_type": "markdown",
      "source": [
        "**Khó khăn**: nhìn chung cả nhóm đều có nhiều đồ án và deadline, nên thời gian dành cho đồ án chưa thực sự được nhiều để đạt kết quả tốt nhất \n",
        "+ Quý: \n",
        "+ Tài: \n",
        "+ Mận: \n",
        "\n",
        "\n",
        "**Học được:**\n",
        "+ Quý: \n",
        "+ Tài: \n",
        "+ Mận: \n",
        "\n",
        "\n",
        "**Nếu có thêm thời gian**: nhóm sẽ nghiên cứu sâu hơn về ...\n"
      ],
      "metadata": {
        "id": "ZazzW6OhWyf-"
      }
    },
    {
      "cell_type": "markdown",
      "metadata": {
        "id": "ygwzJin2RSo4"
      },
      "source": [
        "---"
      ]
    },
    {
      "cell_type": "markdown",
      "metadata": {
        "id": "1JBS4Tc3RSo4"
      },
      "source": [
        "# 5. Tài liệu tham khảo"
      ]
    },
    {
      "cell_type": "markdown",
      "metadata": {
        "id": "Fb7-KxZHB9Cg"
      },
      "source": [
        "Nhập môn học máy: [BÀI TẬP THỰC HÀNH II ](https://drive.google.com/file/d/1U65IfdkizLD0pd1aQKp9xqVRnTj5bejR/view)\n"
      ]
    }
  ]
}
