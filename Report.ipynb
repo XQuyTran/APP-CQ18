{
  "nbformat": 4,
  "nbformat_minor": 0,
  "metadata": {
    "colab": {
      "name": "Report.ipynb",
      "provenance": [],
      "collapsed_sections": []
    },
    "kernelspec": {
      "display_name": "Python 3",
      "language": "python",
      "name": "python3"
    },
    "language_info": {
      "codemirror_mode": {
        "name": "ipython",
        "version": 3
      },
      "file_extension": ".py",
      "mimetype": "text/x-python",
      "name": "python",
      "nbconvert_exporter": "python",
      "pygments_lexer": "ipython3",
      "version": "3.7.3"
    },
    "accelerator": "GPU"
  },
  "cells": [
    {
      "cell_type": "markdown",
      "metadata": {
        "id": "_WNCWSSdb4hY"
      },
      "source": [
        "# Đồ án môn học \"Lập trình song song ứng dụng\"\n",
        "\n",
        "# Xác định loại bệnh thực vật bằng CNN.\n",
        "\n",
        "## Giảng viên: Trần Trung Kiên\n",
        "\n",
        "### Nhóm 3:\n",
        "- 18120231 - Trần Xuân Quý\n",
        "- 18120544 - Trương Minh Tài\n",
        "- 18120462 - Nguyễn Thị Mận"
      ]
    },
    {
      "cell_type": "markdown",
      "metadata": {
        "id": "jFV9dwfbb818"
      },
      "source": [
        "---"
      ]
    },
    {
      "cell_type": "markdown",
      "metadata": {
        "id": "JfDNhQszbT7E"
      },
      "source": [
        "#0. Import\n",
        "\n",
        "\n",
        "\n",
        "\n",
        "\n"
      ]
    },
    {
      "cell_type": "code",
      "source": [
        ""
      ],
      "metadata": {
        "id": "4gvP9OrcZBhJ"
      },
      "execution_count": null,
      "outputs": []
    },
    {
      "cell_type": "markdown",
      "metadata": {
        "id": "LhPMHQh9bYlg"
      },
      "source": [
        "---"
      ]
    },
    {
      "cell_type": "markdown",
      "metadata": {
        "id": "Gndq0-H9c3UI"
      },
      "source": [
        "# 1. Mô tả ứng dụng"
      ]
    },
    {
      "cell_type": "markdown",
      "metadata": {
        "id": "VkkX0gY6v5co"
      },
      "source": [
        "- **Xác định loại bệnh thực vật bằng CNN**\n",
        "\t- Input: một ảnh RGB (ảnh lá cây) và một mô hình CNN đã train\n",
        "\t- Output: `healthy`\t`multiple_diseases`\t`rust`\t`scab`\n",
        "\t- Ý nghĩa của ứng dụng trong thực tế:\n",
        "\t\t- tránh các chuẩn đoán sai dẫn đến tăng chi phí, hại môi trường khi sự dụng sai thuốc, hóa chất cho cây trồng\n",
        "\t\t- chuẩn đoán hiện tại dựa trên con người: tốn thời gian, tốn kém và không mang lại hiệu quả \n"
      ]
    },
    {
      "cell_type": "markdown",
      "source": [
        "- Lý do cần tăng tốc ứng dụng:\n",
        "\t- Có nhiều ý nghĩa thực tế, có thể áp dụng cho đa dạng loại thực vật\n",
        "\t- Ứng dụng này sẽ chạy chậm nếu cài đặt tuần tự\n",
        "\t- Mô hình CNN có thể song song hóa và tối ưu hóa.\n",
        "\t\n",
        "\n",
        "\n",
        "\n"
      ],
      "metadata": {
        "id": "7iPSuJnGigTj"
      }
    },
    {
      "cell_type": "markdown",
      "source": [
        "- Khả năng song song hóa\n",
        "\t- Các node trong mỗi layer có thể được tính độc lập.\n",
        "\t- Một số hàm kích hoạt có thể song song hóa: softmax"
      ],
      "metadata": {
        "id": "lXdJDXpxI1MG"
      }
    },
    {
      "cell_type": "markdown",
      "metadata": {
        "id": "0WPaT2YewLtY"
      },
      "source": [
        "---"
      ]
    },
    {
      "cell_type": "markdown",
      "metadata": {
        "id": "7WS47gU0XR40"
      },
      "source": [
        "# 2. Cài đặt tuần tự"
      ]
    },
    {
      "cell_type": "markdown",
      "source": [
        "**Convolutional Neural Network**"
      ],
      "metadata": {
        "id": "GZambnqRPW74"
      }
    },
    {
      "cell_type": "markdown",
      "source": [
        "![](https://drive.google.com/uc?export=view&id=18bv5SXvk-M7QMdcuvKY4PN02kWwTbIMp)"
      ],
      "metadata": {
        "id": "q4VQ34fBPXeQ"
      }
    },
    {
      "cell_type": "markdown",
      "metadata": {
        "id": "kG2srB4UiYjo"
      },
      "source": [
        "## 2.1. Thiết kế"
      ]
    },
    {
      "cell_type": "markdown",
      "source": [
        ""
      ],
      "metadata": {
        "id": "2SxBav8WIcp4"
      }
    },
    {
      "cell_type": "markdown",
      "metadata": {
        "id": "cB63EdxDc6aU"
      },
      "source": [
        "## 2.2. Đánh giá"
      ]
    },
    {
      "cell_type": "markdown",
      "metadata": {
        "id": "8hq0--pcX0hc"
      },
      "source": [
        "---"
      ]
    },
    {
      "cell_type": "markdown",
      "metadata": {
        "id": "aqQRAvgnW-pA"
      },
      "source": [
        "# 3. Cài đặt song song"
      ]
    },
    {
      "cell_type": "markdown",
      "metadata": {
        "id": "UmQM2xlgXros"
      },
      "source": [
        "## 3.1. Phân tích"
      ]
    },
    {
      "cell_type": "markdown",
      "metadata": {
        "id": "PTajeAXxX6I0"
      },
      "source": [
        "## 3.2. Thiết kế"
      ]
    },
    {
      "cell_type": "markdown",
      "metadata": {
        "id": "KpOkhWXXX7ew"
      },
      "source": [
        "## 3.3. Đánh giá"
      ]
    },
    {
      "cell_type": "markdown",
      "metadata": {
        "id": "0KOSr4XcRSo4"
      },
      "source": [
        "---"
      ]
    },
    {
      "cell_type": "markdown",
      "metadata": {
        "id": "MI7sU-eURSo4"
      },
      "source": [
        "# 4. Nhìn lại quá trình làm đồ án"
      ]
    },
    {
      "cell_type": "markdown",
      "source": [
        "**Khó khăn**: nhìn chung cả nhóm đều có nhiều đồ án và deadline, nên thời gian dành cho đồ án chưa thực sự được nhiều để đạt kết quả tốt nhất \n",
        "+ Quý: \n",
        "+ Tài: \n",
        "+ Mận: \n",
        "\n",
        "\n",
        "**Học được:**\n",
        "+ Quý: \n",
        "+ Tài: \n",
        "+ Mận: \n",
        "\n",
        "\n",
        "**Nếu có thêm thời gian**: nhóm sẽ nghiên cứu sâu hơn về ...\n"
      ],
      "metadata": {
        "id": "ZazzW6OhWyf-"
      }
    },
    {
      "cell_type": "markdown",
      "metadata": {
        "id": "ygwzJin2RSo4"
      },
      "source": [
        "---"
      ]
    },
    {
      "cell_type": "markdown",
      "metadata": {
        "id": "1JBS4Tc3RSo4"
      },
      "source": [
        "# 5. Tài liệu tham khảo"
      ]
    },
    {
      "cell_type": "markdown",
      "metadata": {
        "id": "Fb7-KxZHB9Cg"
      },
      "source": [
        "Nhập môn học máy: [BÀI TẬP THỰC HÀNH II ](https://drive.google.com/file/d/1U65IfdkizLD0pd1aQKp9xqVRnTj5bejR/view)\n"
      ]
    }
  ]
}
